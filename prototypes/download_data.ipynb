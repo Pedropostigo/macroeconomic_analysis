{
 "cells": [
  {
   "cell_type": "code",
   "execution_count": 16,
   "metadata": {},
   "outputs": [],
   "source": [
    "import os\n",
    "\n",
    "import urllib\n",
    "import json"
   ]
  },
  {
   "cell_type": "code",
   "execution_count": 18,
   "metadata": {},
   "outputs": [],
   "source": [
    "url = \"https://ec.europa.eu/eurostat/api/dissemination/statistics/1.0/data/teina010?format=JSON&unit=MIO_EUR_SCA&na_item=B1GQ&s_adj=SCA&lang=en\"\n",
    "response = urllib.request.urlopen(url)\n",
    "\n",
    "response = json.loads(response.read())\n",
    "\n",
    "with open(os.path.join('data', 'raw', 'gdp', 'gdp_eur.json'), 'w') as f:\n",
    "    json.dump(response, f)"
   ]
  },
  {
   "cell_type": "code",
   "execution_count": 27,
   "metadata": {},
   "outputs": [],
   "source": [
    "import pandas as pd\n",
    "\n",
    "def process_gdp(json_gdp_data:dict) -> None:\n",
    "    records = []\n",
    "\n",
    "    # geo dimensions\n",
    "    dimension_geo = json_gdp_data['dimension']['geo']['category']['index']\n",
    "    dimendion_geo_label = json_gdp_data['dimension']['geo']['category']['label']\n",
    "\n",
    "    # time dimensions\n",
    "    dimension_time = json_gdp_data['dimension']['time']['category']['index']\n",
    "    dimendion_time_label = json_gdp_data['dimension']['time']['category']['label']\n",
    "\n",
    "    # process data\n",
    "    counter = 0\n",
    "    for g in dimension_geo:\n",
    "        for t in dimension_time:\n",
    "            key = str(counter)\n",
    "\n",
    "            value = json_gdp_data['value'].get(key)\n",
    "            status = json_gdp_data['status'].get(key)\n",
    "\n",
    "            geo_label = dimendion_geo_label[g]\n",
    "            time_label = dimendion_time_label[t]\n",
    "\n",
    "            records.append(\n",
    "                {\n",
    "                    'geo_id': g,\n",
    "                    'geo_des': geo_label,\n",
    "                    'time_des': time_label, \n",
    "                    'value': value,\n",
    "                    'status': status\n",
    "                }\n",
    "            )\n",
    "            counter +=1\n",
    "\n",
    "\n",
    "    pd.DataFrame.from_records(records).to_csv(\n",
    "        os.path.join(\"data\", \"processed\", \"gdp\", \"gdp_eur.csv\"),\n",
    "        index = False\n",
    "    )\n",
    "\n",
    "process_gdp(response)"
   ]
  }
 ],
 "metadata": {
  "kernelspec": {
   "display_name": ".venv",
   "language": "python",
   "name": "python3"
  },
  "language_info": {
   "codemirror_mode": {
    "name": "ipython",
    "version": 3
   },
   "file_extension": ".py",
   "mimetype": "text/x-python",
   "name": "python",
   "nbconvert_exporter": "python",
   "pygments_lexer": "ipython3",
   "version": "3.11.4"
  }
 },
 "nbformat": 4,
 "nbformat_minor": 2
}
