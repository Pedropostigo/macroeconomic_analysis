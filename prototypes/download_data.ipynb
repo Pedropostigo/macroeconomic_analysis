{
 "cells": [
  {
   "cell_type": "code",
   "execution_count": 1,
   "metadata": {},
   "outputs": [],
   "source": [
    "import os"
   ]
  },
  {
   "cell_type": "code",
   "execution_count": 2,
   "metadata": {},
   "outputs": [],
   "source": [
    "from src.eur_gdp_data import EurGDPData\n",
    "EurGDPData.download_data(\n",
    "    os.path.join(\"data\", 'raw', \"gdp\")\n",
    ")"
   ]
  },
  {
   "cell_type": "code",
   "execution_count": 3,
   "metadata": {},
   "outputs": [],
   "source": [
    "EurGDPData.process_data(\n",
    "    origin_path = os.path.join(\"data\", 'raw', \"gdp\"),\n",
    "    destination_path = os.path.join(\"data\", 'processed', \"gdp\"),\n",
    "    output_file_type = \"csv\"\n",
    ")"
   ]
  }
 ],
 "metadata": {
  "kernelspec": {
   "display_name": ".venv",
   "language": "python",
   "name": "python3"
  },
  "language_info": {
   "codemirror_mode": {
    "name": "ipython",
    "version": 3
   },
   "file_extension": ".py",
   "mimetype": "text/x-python",
   "name": "python",
   "nbconvert_exporter": "python",
   "pygments_lexer": "ipython3",
   "version": "3.11.4"
  }
 },
 "nbformat": 4,
 "nbformat_minor": 2
}
